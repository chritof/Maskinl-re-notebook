{
 "cells": [
  {
   "cell_type": "markdown",
   "id": "1cfa5471-df4d-4a28-bc64-792c80375816",
   "metadata": {},
   "source": [
    "## denne filen er kun for notater!"
   ]
  },
  {
   "cell_type": "code",
   "execution_count": 2,
   "id": "0c941b73-438e-40a2-84ff-0ef75c82ed6b",
   "metadata": {},
   "outputs": [],
   "source": [
    "# To display plots directly in the notebook:\n",
    "%matplotlib inline"
   ]
  },
  {
   "cell_type": "code",
   "execution_count": null,
   "id": "7aeb623e-e8bc-4c50-9f87-0e3849847c71",
   "metadata": {},
   "outputs": [],
   "source": [
    "#inputs man ofte trenger!\n",
    "import numpy as np\n",
    "import pandas as pd\n",
    "from pathlib import Path\n",
    "import matplotlib.pyplot as plt\n",
    "import matplotlib\n",
    "import sklearn"
   ]
  },
  {
   "cell_type": "code",
   "execution_count": 7,
   "id": "0f26a577-1053-459c-93d6-e38a06fa8ba3",
   "metadata": {},
   "outputs": [],
   "source": [
    "#fetch gjør det mulig å henter datasett direkte fra nettstedet OpenML.org\n",
    "from sklearn.datasets import fetch_openml"
   ]
  },
  {
   "cell_type": "code",
   "execution_count": null,
   "id": "9e7ee319-d3bb-4e1c-9bc1-c9825d4cf740",
   "metadata": {},
   "outputs": [],
   "source": [
    "#henter/ fatcher datasettet og lagrer det på data filen.\n",
    "mnist = fetch_openml('mnist_784', version=1, data_home='./data', return_X_y=True)"
   ]
  },
  {
   "cell_type": "code",
   "execution_count": null,
   "id": "5f0756f2-a445-4545-b8ac-318e469f7b46",
   "metadata": {},
   "outputs": [],
   "source": [
    "#gir oss tabell\n",
    "mnist[0].head()"
   ]
  },
  {
   "cell_type": "code",
   "execution_count": null,
   "id": "e9467da5-d2b2-4dd9-89fe-a0b62ea7cded",
   "metadata": {},
   "outputs": [],
   "source": [
    "#legger til elementer fra 0 -> 59 999 til treningsdata og fra 60 000 til testdata\n",
    "X_train, X_test, y_train, y_test = X[:60000], X[60000:], y[:60000], y[60000:]"
   ]
  },
  {
   "cell_type": "code",
   "execution_count": null,
   "id": "2cf846c4-f7a0-4d82-942a-bdd50a1cd095",
   "metadata": {},
   "outputs": [],
   "source": [
    "#X_treningsdata (hver rad er et bildet)\n",
    "#.iloc[34500] = henter rad nummer 34 500 (altså ett spesifikt bilde)\n",
    "#np.array(...) = konverterer raden til en NumPy-array\n",
    "some_digit = np.array(X_train.iloc[34500])"
   ]
  },
  {
   "cell_type": "code",
   "execution_count": null,
   "id": "ed2a68dd-e3a9-4836-a44f-caefa493df93",
   "metadata": {},
   "outputs": [],
   "source": [
    "#etter koden over er some_digit en lang rekke med piskelverdier.\n",
    "#vi vet at hvert bildet er på fomen 28*28, koden undrer endrer formatet fra en rekke til en 2D array.\n",
    "some_digit_image = some_digit.reshape(28,28)"
   ]
  },
  {
   "cell_type": "code",
   "execution_count": null,
   "id": "64e510ed-59fa-477e-a929-8db4ba0dd871",
   "metadata": {},
   "outputs": [],
   "source": [
    "fig, ax = plt.subplots(figsize=(6, 6))\n",
    "ax.imshow(some_digit_image, cmap='gray')\n",
    "ax.axis('off')\n",
    "ax.set_title('Some Digit')\n",
    "plt.show()"
   ]
  }
 ],
 "metadata": {
  "kernelspec": {
   "display_name": "Python [conda env:base] *",
   "language": "python",
   "name": "conda-base-py"
  },
  "language_info": {
   "codemirror_mode": {
    "name": "ipython",
    "version": 3
   },
   "file_extension": ".py",
   "mimetype": "text/x-python",
   "name": "python",
   "nbconvert_exporter": "python",
   "pygments_lexer": "ipython3",
   "version": "3.13.5"
  }
 },
 "nbformat": 4,
 "nbformat_minor": 5
}
