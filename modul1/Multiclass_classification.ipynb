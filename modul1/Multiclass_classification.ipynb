{
 "cells": [
  {
   "cell_type": "markdown",
   "id": "1cfa5471-df4d-4a28-bc64-792c80375816",
   "metadata": {},
   "source": [
    "## denne filen er kun for notater!"
   ]
  },
  {
   "cell_type": "code",
   "execution_count": 2,
   "id": "0c941b73-438e-40a2-84ff-0ef75c82ed6b",
   "metadata": {},
   "outputs": [],
   "source": [
    "# To display plots directly in the notebook:\n",
    "%matplotlib inline"
   ]
  },
  {
   "cell_type": "code",
   "execution_count": null,
   "id": "7aeb623e-e8bc-4c50-9f87-0e3849847c71",
   "metadata": {},
   "outputs": [],
   "source": [
    "#inputs man ofte trenger!\n",
    "import numpy as np\n",
    "import pandas as pd\n",
    "from pathlib import Path\n",
    "import matplotlib.pyplot as plt\n",
    "import matplotlib\n",
    "import sklearn"
   ]
  },
  {
   "cell_type": "code",
   "execution_count": 7,
   "id": "0f26a577-1053-459c-93d6-e38a06fa8ba3",
   "metadata": {},
   "outputs": [],
   "source": [
    "#fetch gjør det mulig å henter datasett direkte fra nettstedet OpenML.org\n",
    "from sklearn.datasets import fetch_openml"
   ]
  },
  {
   "cell_type": "code",
   "execution_count": null,
   "id": "9e7ee319-d3bb-4e1c-9bc1-c9825d4cf740",
   "metadata": {},
   "outputs": [],
   "source": [
    "#henter/ fatcher datasettet og lagrer det på data filen.\n",
    "mnist = fetch_openml('mnist_784', version=1, data_home='./data', return_X_y=True)"
   ]
  },
  {
   "cell_type": "code",
   "execution_count": null,
   "id": "5f0756f2-a445-4545-b8ac-318e469f7b46",
   "metadata": {},
   "outputs": [],
   "source": [
    "#gir oss tabell\n",
    "mnist[0].head()"
   ]
  },
  {
   "cell_type": "code",
   "execution_count": null,
   "id": "e9467da5-d2b2-4dd9-89fe-a0b62ea7cded",
   "metadata": {},
   "outputs": [],
   "source": [
    "#legger til elementer fra 0 -> 59 999 til treningsdata og fra 60 000 til testdata\n",
    "X_train, X_test, y_train, y_test = X[:60000], X[60000:], y[:60000], y[60000:]"
   ]
  },
  {
   "cell_type": "code",
   "execution_count": null,
   "id": "2cf846c4-f7a0-4d82-942a-bdd50a1cd095",
   "metadata": {},
   "outputs": [],
   "source": [
    "#X_treningsdata (hver rad er et bildet)\n",
    "#.iloc[34500] = henter rad nummer 34 500 (altså ett spesifikt bilde)\n",
    "#np.array(...) = konverterer raden til en NumPy-array\n",
    "some_digit = np.array(X_train.iloc[34500])"
   ]
  },
  {
   "cell_type": "code",
   "execution_count": null,
   "id": "ed2a68dd-e3a9-4836-a44f-caefa493df93",
   "metadata": {},
   "outputs": [],
   "source": [
    "#etter koden over er some_digit en lang rekke med piskelverdier.\n",
    "#vi vet at hvert bildet er på fomen 28*28, koden undrer endrer formatet fra en rekke til en 2D array.\n",
    "some_digit_image = some_digit.reshape(28,28)"
   ]
  },
  {
   "cell_type": "code",
   "execution_count": null,
   "id": "64e510ed-59fa-477e-a929-8db4ba0dd871",
   "metadata": {},
   "outputs": [],
   "source": [
    "\n",
    "fig, ax = plt.subplots(figsize=(6, 6))\n",
    "ax.imshow(some_digit_image, cmap='gray')\n",
    "ax.axis('off')\n",
    "ax.set_title('Some Digit')\n",
    "plt.show()"
   ]
  },
  {
   "cell_type": "code",
   "execution_count": null,
   "id": "625e7278-81b6-42c6-a24c-a84dd9e18bcf",
   "metadata": {},
   "outputs": [],
   "source": [
    "#lager en funksjon som printer ut en litste av bilder, med et gitt antall, nb:\n",
    "def plot_digits(to_plot, nb):\n",
    "    \"\"\"\n",
    "    Plot a set of digit images.\n",
    "\n",
    "    Parameters:\n",
    "    to_plot (list): A list of image data to plot.\n",
    "    nb (int): The number of images to plot.\n",
    "    \"\"\"\n",
    "    f = plt.figure(figsize=(14, 14))\n",
    "    for i in range(nb):\n",
    "        plt.subplot(1, nb, i+1)\n",
    "        plot_digit(to_plot[i])\n",
    "    plt.show()"
   ]
  },
  {
   "cell_type": "code",
   "execution_count": 8,
   "id": "02a94d0d-8a5c-4fe2-8f9e-572badbff0e9",
   "metadata": {},
   "outputs": [],
   "source": [
    "from sklearn.preprocessing import StandardScaler"
   ]
  },
  {
   "cell_type": "code",
   "execution_count": null,
   "id": "0b48e79b-86d8-4811-84d1-4661a251ac81",
   "metadata": {},
   "outputs": [],
   "source": [
    "#når vi skal bruke forskjellige modeller som SGDClassifier er det viktig å normalisere dataene:\n",
    "std = StandardScaler()\n",
    "#her bergener vi gjennomsnittet og standardavviket på treningsdataene:\n",
    "X_train_std = std.fit_transform(X_train)\n",
    "#VIKTIG: her bruker vi de verdiene vi fant over til å normalisere test dataene. du skal ikke beregne nye gjennomsnitt og avvik!!!\n",
    "X_test_std = std.transform(X_test)"
   ]
  },
  {
   "cell_type": "code",
   "execution_count": null,
   "id": "b595e822-44da-45e5-ba68-82c3195e7459",
   "metadata": {},
   "outputs": [],
   "source": [
    "#trener SGDClassifier og bruker %%time for å finne ut hvor lang tid det tar.\n",
    "%%time\n",
    "sgd_clf.fit(X_train_std, y_train)"
   ]
  },
  {
   "cell_type": "code",
   "execution_count": null,
   "id": "dd0447d0-5f2e-4329-856f-b7c87d40df39",
   "metadata": {},
   "outputs": [],
   "source": [
    "#gjør det samme med random forest tree modellen.\n",
    "%%time\n",
    "rf_clf.fit(X_train, y_train)"
   ]
  },
  {
   "cell_type": "code",
   "execution_count": 10,
   "id": "3dbf1191-3c5e-4046-ae74-642b652c1cc7",
   "metadata": {},
   "outputs": [],
   "source": [
    "from sklearn.metrics import accuracy_score\n",
    "from sklearn.model_selection import cross_val_predict"
   ]
  },
  {
   "cell_type": "code",
   "execution_count": null,
   "id": "4e66e94f-e0ad-42ea-bb8b-cd80eb245e9c",
   "metadata": {},
   "outputs": [],
   "source": [
    "# Warning: These computations take some time (depending on your CPU)...\n",
    "sgd_train_pred = cross_val_predict(sgd_clf, X_train_std, y_train, n_jobs=-1)\n",
    "rf_train_pred = cross_val_predict(rf_clf, X_train, y_train, n_jobs=-1)"
   ]
  },
  {
   "cell_type": "code",
   "execution_count": null,
   "id": "586bcf24-55eb-4a0a-a3aa-4f8fcfa75e9b",
   "metadata": {},
   "outputs": [],
   "source": [
    "#her tester vi modellen basert på corss validation data. etter dette kan vi justere eller finpusse på modellen\n",
    "#hvis dette trengs\n",
    "accuracy_score(y_train, sgd_train_pred)"
   ]
  },
  {
   "cell_type": "code",
   "execution_count": null,
   "id": "716c7bc0-91a6-4a25-96e0-be58b913d450",
   "metadata": {},
   "outputs": [],
   "source": [
    "#helt til slutt når vi tror vi har en vell fungerende modell, så kjører vi denne koden:\n",
    "#PS: du kan kun kjøre denne 1 gang med samme test set!!! hvis du ikke er fornøyd med resultatet kan du enten lage modellen på nytt\n",
    "#slik at modellen ikke har kjør testkoden eller du kan samle inn ny testdata hvis du har tilgang til dette. (ofte har vi ikke mer data)\n",
    "accuracy_score(y_test, sgd_clf.predict(X_test))"
   ]
  },
  {
   "cell_type": "code",
   "execution_count": null,
   "id": "402bf06e-9329-4159-9dca-d97b8b6b9637",
   "metadata": {},
   "outputs": [],
   "source": [
    "from sklearn.metrics import confusion_matrix"
   ]
  },
  {
   "cell_type": "code",
   "execution_count": null,
   "id": "880d1ec3-59d8-4b72-866f-444264d1fe06",
   "metadata": {},
   "outputs": [],
   "source": [
    "#lager confusion matrix\n",
    "sgd_cm = confusion_matrix(y_train, sgd_train_pred)\n",
    "rf_cm = confusion_matrix(y_train, rf_train_pred)"
   ]
  },
  {
   "cell_type": "code",
   "execution_count": null,
   "id": "9c8a66e3-050a-4d6d-9104-3321c818814b",
   "metadata": {},
   "outputs": [],
   "source": [
    "#kan gjøre dette for å sammenligne sgd og random forest:\n",
    "print(\"SGD Confusion Matrix:\")\n",
    "print(sgd_cm)\n",
    "print()\n",
    "print(\"RF Confusion Matrix:\")\n",
    "print(rf_cm)"
   ]
  },
  {
   "cell_type": "code",
   "execution_count": null,
   "id": "7b5b95e2-38df-461e-b634-a095b0db77b9",
   "metadata": {},
   "outputs": [],
   "source": [
    "#kan få en finere visuallisering med hjelp av ConfusionMatrixDisplay\n",
    "from sklearn.metrics import ConfusionMatrixDisplay"
   ]
  },
  {
   "cell_type": "code",
   "execution_count": null,
   "id": "a4ee7497-9f06-4304-91b8-afbf9be71a75",
   "metadata": {},
   "outputs": [],
   "source": [
    "# Create a confusion matrix display for two different classifiers\n",
    "predictions = [sgd_train_pred, rf_train_pred]\n",
    "classifier_names = [\"SGDClassifier\", \"Random Forest\"]\n",
    "\n",
    "fig, axes = plt.subplots(1, 2, figsize=(14, 6))\n",
    "for i, (prediction, classifier_name) in enumerate(zip(predictions, classifier_names)):\n",
    "    ConfusionMatrixDisplay.from_predictions(y_train, prediction, ax=axes[i])\n",
    "    axes[i].set_title(classifier_name)\n",
    "plt.show()"
   ]
  },
  {
   "cell_type": "code",
   "execution_count": null,
   "id": "5338cdfd-12f3-4511-ad18-3c6d15a3cf6a",
   "metadata": {},
   "outputs": [],
   "source": [
    "#lager en metode for å plotte x som ble y og y som ble x:\n",
    "# Code taken from the book _Géron: Hands-On Machine Learning with Scikit-Learn and TensorFlow_\n",
    "def plot_digits(instances, images_per_row=10, **options):\n",
    "    size = 28\n",
    "    images_per_row = min(len(instances), images_per_row)\n",
    "    images = [instance.reshape(size,size) for instance in instances.values]\n",
    "    n_rows = (len(instances) - 1) // images_per_row + 1\n",
    "    row_images = []\n",
    "    n_empty = n_rows * images_per_row - len(instances)\n",
    "    images.append(np.zeros((size, size * n_empty)))\n",
    "    for row in range(n_rows):\n",
    "        rimages = images[row * images_per_row : (row + 1) * images_per_row]\n",
    "        row_images.append(np.concatenate(rimages, axis=1))\n",
    "    image = np.concatenate(row_images, axis=0)\n",
    "    plt.imshow(image, cmap = matplotlib.cm.binary, **options)\n",
    "    plt.axis(\"off\")"
   ]
  },
  {
   "cell_type": "code",
   "execution_count": null,
   "id": "e1b735c0-cc3d-4acc-b762-70f0d2f807a9",
   "metadata": {},
   "outputs": [],
   "source": [
    "def individual_errors(classifier, class_a, class_b):\n",
    "    \"\"\"\n",
    "    Display individual errors made by a classifier.\n",
    "\n",
    "    Parameters:\n",
    "        classifier (object): The classifier to use.\n",
    "        class_a (int): The first class to compare.\n",
    "        class_b (int): The second class to compare.\n",
    "\n",
    "    Returns:\n",
    "        None\n",
    "    \"\"\"\n",
    "    class_a, class_b = str(class_a), str(class_b)\n",
    "    X_aa = X_train[(y_train == class_a) & (classifier.predict(X_train) == class_a)]  # Correct class a's\n",
    "    X_ab = X_train[(y_train == class_a) & (classifier.predict(X_train) == class_b)]  # a's predicted as b's\n",
    "    X_ba = X_train[(y_train == class_b) & (classifier.predict(X_train) == class_a)]  # b's predicted as a's\n",
    "    X_bb = X_train[(y_train == class_b) & (classifier.predict(X_train) == class_b)]  # Correct b's\n",
    "\n",
    "    plt.figure(figsize=(10, 10))\n",
    "    plt.suptitle(f\"Individual Errors: {class_a} vs {class_b}\")\n",
    "\n",
    "    if len(X_aa) > 0:\n",
    "        ax1 = plt.subplot(221)\n",
    "        plot_digits(X_aa[:25], images_per_row=5)\n",
    "        ax1.text(0.5, 1.05, f\"Correct {class_a}'s\", ha='center', transform=ax1.transAxes)\n",
    "\n",
    "    if len(X_ab) > 0:\n",
    "        ax2 = plt.subplot(222)\n",
    "        plot_digits(X_ab[:25], images_per_row=5)\n",
    "        ax2.text(0.5, 1.05, f\"{class_a}'s predicted as {class_b}'s\", ha='center', transform=ax2.transAxes)\n",
    "\n",
    "    if len(X_ba) > 0:\n",
    "        ax3 = plt.subplot(223)\n",
    "        plot_digits(X_ba[:25], images_per_row=5)\n",
    "        ax3.text(0.5, 1.05, f\"{class_b}'s predicted as {class_a}'s\", ha='center', transform=ax3.transAxes)\n",
    "\n",
    "    if len(X_bb) > 0:\n",
    "        ax4 = plt.subplot(224)\n",
    "        plot_digits(X_bb[:25], images_per_row=5)\n",
    "        ax4.text(0.5, 1.05, f\"Correct {class_b}'s\", ha='center', transform=ax4.transAxes)\n",
    "    plt.show()"
   ]
  },
  {
   "cell_type": "code",
   "execution_count": null,
   "id": "0d70718d-f459-44c4-8c00-378ed79ab899",
   "metadata": {},
   "outputs": [],
   "source": [
    "#eksempel bruk av koden: tester hvor mange 7-ere som ble riktig klassifisert og 7-ere klassifisert som 9-ere\n",
    "# og antall 9-ere som ble riktig klassifisert og 9-ere som \n",
    "individual_errors(sgd_clf, 7, 9)"
   ]
  }
 ],
 "metadata": {
  "kernelspec": {
   "display_name": "Python [conda env:base] *",
   "language": "python",
   "name": "conda-base-py"
  },
  "language_info": {
   "codemirror_mode": {
    "name": "ipython",
    "version": 3
   },
   "file_extension": ".py",
   "mimetype": "text/x-python",
   "name": "python",
   "nbconvert_exporter": "python",
   "pygments_lexer": "ipython3",
   "version": "3.13.5"
  }
 },
 "nbformat": 4,
 "nbformat_minor": 5
}
