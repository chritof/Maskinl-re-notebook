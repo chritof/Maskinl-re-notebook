{
 "cells": [
  {
   "cell_type": "code",
   "execution_count": null,
   "id": "750f8773-4c89-4212-ae01-593df743372c",
   "metadata": {},
   "outputs": [],
   "source": []
  }
 ],
 "metadata": {
  "kernelspec": {
   "display_name": "",
   "name": ""
  },
  "language_info": {
   "name": ""
  }
 },
 "nbformat": 4,
 "nbformat_minor": 5
}
