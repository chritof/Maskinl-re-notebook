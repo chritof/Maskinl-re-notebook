{
 "cells": [
  {
   "cell_type": "code",
   "execution_count": 5,
   "id": "750f8773-4c89-4212-ae01-593df743372c",
   "metadata": {},
   "outputs": [],
   "source": [
    "# To automatically reload modules defined in external files.\n",
    "%reload_ext autoreload\n",
    "%autoreload 2\n",
    "\n",
    "# To display plots directly in the notebook:\n",
    "%matplotlib inline"
   ]
  },
  {
   "cell_type": "code",
   "execution_count": 6,
   "id": "fc10a5f2-785f-4332-b1fc-b0fd78faea82",
   "metadata": {},
   "outputs": [],
   "source": [
    "import numpy as np\n",
    "import pandas as pd\n",
    "import matplotlib.pyplot as plt\n",
    "import matplotlib\n",
    "import sklearn"
   ]
  },
  {
   "cell_type": "code",
   "execution_count": 7,
   "id": "b855617f-c1d5-48e7-a575-a2cd6ffe155b",
   "metadata": {},
   "outputs": [],
   "source": [
    "from sklearn.linear_model import LinearRegression"
   ]
  },
  {
   "cell_type": "code",
   "execution_count": 8,
   "id": "47930c85-6dc8-4024-bf75-1848e3666c8b",
   "metadata": {},
   "outputs": [],
   "source": [
    "# To make the notebook reproducible\n",
    "seed = 42\n",
    "np.random.seed(seed)"
   ]
  },
  {
   "cell_type": "markdown",
   "id": "380ecb5c-3196-4a82-bbf1-68b3dc4b4d42",
   "metadata": {},
   "source": [
    "# Polynomial regression"
   ]
  },
  {
   "cell_type": "code",
   "execution_count": 14,
   "id": "f5274951-30a5-4700-9787-1ecd1f01f692",
   "metadata": {},
   "outputs": [
    {
     "data": {
      "image/png": "[encoded data removed]",
      "text/plain": [
       "<Figure size 640x480 with 1 Axes>"
      ]
     },
     "metadata": {},
     "output_type": "display_data"
    }
   ],
   "source": [
    "np.random.seed(seed)\n",
    "m = 100\n",
    "X = 6 * np.random.rand(m,1) - 3\n",
    "y = 2 + X + 0.5 * X**2 + np.random.randn(m,1)\n",
    "\n",
    "plt.plot(X,y, 'b.')\n",
    "plt.axis([-3,3,0,10])\n",
    "plt.show()"
   ]
  },
  {
   "cell_type": "markdown",
   "id": "140a4f1c-5570-49ea-91f1-920fc05d2c03",
   "metadata": {},
   "source": [
    "#prøver å tilpasse en rett linje gjennom punktene.\n",
    "from sklearn.linear_model import LinearRegression\n",
    "lin_reg = LinearRegression()\n",
    "lin_reg.fit(X, y)\n",
    "\n",
    "theta = [lin_reg.intercept_, lin_reg.coef_]"
   ]
  },
  {
   "cell_type": "code",
   "execution_count": 10,
   "id": "46578ac9-8868-4211-a4a6-e416fedd9975",
   "metadata": {},
   "outputs": [
    {
     "ename": "NameError",
     "evalue": "name 'lin_reg' is not defined",
     "output_type": "error",
     "traceback": [
      "\u001b[0;31m---------------------------------------------------------------------------\u001b[0m",
      "\u001b[0;31mNameError\u001b[0m                                 Traceback (most recent call last)",
      "Cell \u001b[0;32mIn[10], line 2\u001b[0m\n\u001b[1;32m      1\u001b[0m X_new \u001b[38;5;241m=\u001b[39m np\u001b[38;5;241m.\u001b[39marray([[\u001b[38;5;241m-\u001b[39m\u001b[38;5;241m3\u001b[39m], [\u001b[38;5;241m3\u001b[39m]]) \u001b[38;5;66;03m# We choose two new x-values to create our predicted straight line\u001b[39;00m\n\u001b[0;32m----> 2\u001b[0m y_predict \u001b[38;5;241m=\u001b[39m lin_reg\u001b[38;5;241m.\u001b[39mpredict(X_new)\n\u001b[1;32m      4\u001b[0m plt\u001b[38;5;241m.\u001b[39mplot(X_new, y_predict, \u001b[38;5;124m'\u001b[39m\u001b[38;5;124mr\u001b[39m\u001b[38;5;124m'\u001b[39m)\n\u001b[1;32m      5\u001b[0m plt\u001b[38;5;241m.\u001b[39mplot(X, y, \u001b[38;5;124m'\u001b[39m\u001b[38;5;124mb.\u001b[39m\u001b[38;5;124m'\u001b[39m)\n",
      "\u001b[0;31mNameError\u001b[0m: name 'lin_reg' is not defined"
     ]
    }
   ],
   "source": [
    "X_new = np.array([[-3], [3]]) # We choose two new x-values to create our predicted straight line\n",
    "y_predict = lin_reg.predict(X_new)\n",
    "\n",
    "plt.plot(X_new, y_predict, 'r')\n",
    "plt.plot(X, y, 'b.')\n",
    "plt.show()"
   ]
  },
  {
   "cell_type": "markdown",
   "id": "60c26713-1736-434f-acee-29871c9c377a",
   "metadata": {},
   "source": [
    "..not very impressive. "
   ]
  },
  {
   "cell_type": "markdown",
   "id": "d4001c90-62a7-44e7-9eba-db93fdbb4f1d",
   "metadata": {},
   "source": [
    "## Polynomial regression by hand"
   ]
  },
  {
   "cell_type": "code",
   "execution_count": null,
   "id": "ba3d65a7-a363-4e57-afb8-93c5ddd0c904",
   "metadata": {},
   "outputs": [],
   "source": [
    "X_square = np.dstack((X, X**2))\n",
    "X_square = X_square[:,0,:] # This tweak is needed to make LinearRegression happy below"
   ]
  },
  {
   "cell_type": "code",
   "execution_count": null,
   "id": "7501cc64-a150-45e4-a41f-9e5f4174cb57",
   "metadata": {},
   "outputs": [],
   "source": [
    "X_square[:5]"
   ]
  },
  {
   "cell_type": "code",
   "execution_count": null,
   "id": "71034593-bc5d-4904-a7fb-4e6150e5aeb5",
   "metadata": {},
   "outputs": [],
   "source": [
    "lin_reg_square = LinearRegression()\n",
    "lin_reg_square.fit(X_square, y)"
   ]
  },
  {
   "cell_type": "code",
   "execution_count": null,
   "id": "2e756262-9f3b-41b7-8855-3972aa436c62",
   "metadata": {},
   "outputs": [],
   "source": [
    "X_new=np.linspace(-3, 3, 100).reshape(100, 1)\n",
    "# Add squares:\n",
    "X_new_square = np.dstack((X_new, X_new**2))\n",
    "X_new_square = X_new_square[:,0,:]"
   ]
  },
  {
   "cell_type": "code",
   "execution_count": null,
   "id": "a8373835-00cd-4ee9-b519-0f65b44c6b10",
   "metadata": {},
   "outputs": [],
   "source": [
    "y_new = lin_reg_square.predict(X_new_square)"
   ]
  },
  {
   "cell_type": "code",
   "execution_count": null,
   "id": "dafc979e-a487-41b9-981e-c647441dbf61",
   "metadata": {},
   "outputs": [],
   "source": [
    "plt.plot(X, y, \"b.\")\n",
    "plt.plot(X_new, y_new, \"r-\", linewidth=2, label=\"Predictions\")\n",
    "plt.show()"
   ]
  },
  {
   "cell_type": "code",
   "execution_count": null,
   "id": "8bf9684a-6571-4933-b322-2ebd2818190e",
   "metadata": {},
   "outputs": [],
   "source": [
    "lin_reg_square.intercept_, lin_reg_square.coef_"
   ]
  },
  {
   "cell_type": "markdown",
   "id": "cfd12f40-e93c-4e2b-a7da-7f3453503822",
   "metadata": {},
   "source": [
    "det vi har gått gjennom så langt er hvordan vi kan bruke polynom regresjon til å få en linje gjennom punktene.\n",
    "vi lagde denne polynom linjen for hånd/ kodet det, nå skal vi se på hvordan vi kan bruke scikit-learn til å gjøre det samme"
   ]
  },
  {
   "cell_type": "markdown",
   "id": "436b049d-2ffa-4749-8d48-6a1c3a911dd6",
   "metadata": {},
   "source": [
    "## Using scikit-learn"
   ]
  },
  {
   "cell_type": "code",
   "execution_count": null,
   "id": "a6259108-11d7-4b6e-b665-a8bde5039273",
   "metadata": {},
   "outputs": [],
   "source": [
    "from sklearn.preprocessing import PolynomialFeatures\n",
    "poly_features = PolynomialFeatures(degree=2, include_bias=False)\n",
    "X_poly = poly_features.fit_transform(X)"
   ]
  },
  {
   "cell_type": "code",
   "execution_count": null,
   "id": "62741f1d-63bc-4a1e-bab0-527c9ee2e009",
   "metadata": {},
   "outputs": [],
   "source": [
    "X[:5]"
   ]
  },
  {
   "cell_type": "code",
   "execution_count": null,
   "id": "d59da09d-2c57-4a0d-9333-959f68fa0ec8",
   "metadata": {},
   "outputs": [],
   "source": [
    "X_poly[:5] # Original feature of X and the square of it"
   ]
  },
  {
   "cell_type": "code",
   "execution_count": null,
   "id": "0b63e42d-4f61-4d00-9a2f-5fcc744fbcdf",
   "metadata": {},
   "outputs": [],
   "source": [
    "lin_reg = LinearRegression()\n",
    "lin_reg.fit(X_poly, y)"
   ]
  },
  {
   "cell_type": "code",
   "execution_count": null,
   "id": "dc5e0c0a-1b36-49c2-9c46-9671dc18159b",
   "metadata": {},
   "outputs": [],
   "source": [
    "X_new = np.linspace(-3, 3, 100).reshape(100, 1)\n",
    "X_new_poly = poly_features.transform(X_new)\n",
    "y_new = lin_reg.predict(X_new_poly)"
   ]
  },
  {
   "cell_type": "code",
   "execution_count": null,
   "id": "fe6e9a08-d586-41e6-b175-25ddc81bbbe7",
   "metadata": {},
   "outputs": [],
   "source": [
    "plt.plot(X, y, \"b.\")\n",
    "plt.plot(X_new, y_new, \"r-\", linewidth=2, label=\"Predictions\")\n",
    "plt.show()"
   ]
  },
  {
   "cell_type": "code",
   "execution_count": null,
   "id": "5e251147-0586-4ffc-995e-8022f0d9dfa7",
   "metadata": {},
   "outputs": [],
   "source": []
  }
 ],
 "metadata": {
  "kernelspec": {
   "display_name": "Python [conda env:base] *",
   "language": "python",
   "name": "conda-base-py"
  },
  "language_info": {
   "codemirror_mode": {
    "name": "ipython",
    "version": 3
   },
   "file_extension": ".py",
   "mimetype": "text/x-python",
   "name": "python",
   "nbconvert_exporter": "python",
   "pygments_lexer": "ipython3",
   "version": "3.13.5"
  }
 },
 "nbformat": 4,
 "nbformat_minor": 5
}
